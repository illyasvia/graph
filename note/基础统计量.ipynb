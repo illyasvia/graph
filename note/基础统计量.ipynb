{
 "cells": [
  {
   "cell_type": "code",
   "execution_count": 118,
   "metadata": {
    "collapsed": true,
    "pycharm": {
     "name": "#%%\n"
    }
   },
   "outputs": [],
   "source": [
    "# clustering coefficient(保留两位小数)\n",
    "import networkx as nx\n",
    "\n",
    "G = nx.les_miserables_graph()\n",
    "avg_cluster = round(nx.average_clustering(G), 2)"
   ]
  },
  {
   "cell_type": "code",
   "execution_count": 119,
   "outputs": [],
   "source": [
    "# 平均度数\n",
    "import networkx as nx\n",
    "\n",
    "G = nx.les_miserables_graph()\n",
    "num_edges = G.number_of_edges()\n",
    "num_nodes = G.number_of_nodes()\n",
    "avg_degree = round(2 * num_edges / num_nodes)"
   ],
   "metadata": {
    "collapsed": false,
    "pycharm": {
     "name": "#%%\n"
    }
   }
  },
  {
   "cell_type": "code",
   "execution_count": 120,
   "outputs": [],
   "source": [
    "# PageRank\n",
    "import networkx as nx\n",
    "\n",
    "G = nx.les_miserables_graph()\n",
    "beta = 0.8\n",
    "r0 = 1 / G.number_of_nodes()\n",
    "r1 = 0\n",
    "for i in nx.neighbors(G, 'Myriel'):\n",
    "    #得到的每一个ni都是node0邻居的索引\n",
    "    di = G.degree[i]  #获取node_ni的度数\n",
    "    r1 += beta * r0 / di\n",
    "r1 += (1 - beta) * (1 / G.number_of_nodes())\n",
    "r1 = round(r1, 2)"
   ],
   "metadata": {
    "collapsed": false,
    "pycharm": {
     "name": "#%%\n"
    }
   }
  },
  {
   "cell_type": "code",
   "execution_count": 121,
   "outputs": [],
   "source": [
    "# closeness centrality(以节点5为例)\n",
    "import networkx as nx\n",
    "\n",
    "G = nx.les_miserables_graph()\n",
    "node_length_pairs = nx.shortest_path_length(G, source='Cravatte')\n",
    "denominator = 0\n",
    "for i in G.nodes:\n",
    "    denominator += node_length_pairs[i]\n",
    "closeness = round(1 / denominator, 2)"
   ],
   "metadata": {
    "collapsed": false,
    "pycharm": {
     "name": "#%%\n"
    }
   }
  },
  {
   "cell_type": "code",
   "execution_count": 122,
   "outputs": [],
   "source": [
    "import networkx as nx\n",
    "\n",
    "G = nx.les_miserables_graph()\n",
    "# 采用nx内置函数\n",
    "closeness2 = nx.closeness_centrality(G, u='Cravatte')\n",
    "closeness2 = closeness2 / (G.number_of_nodes() - 1)\n",
    "closeness2 = round(closeness2, 2)\n"
   ],
   "metadata": {
    "collapsed": false,
    "pycharm": {
     "name": "#%%\n"
    }
   }
  }
 ],
 "metadata": {
  "kernelspec": {
   "name": "pycharm-569579c0",
   "language": "python",
   "display_name": "PyCharm (graph)"
  },
  "language_info": {
   "codemirror_mode": {
    "name": "ipython",
    "version": 2
   },
   "file_extension": ".py",
   "mimetype": "text/x-python",
   "name": "python",
   "nbconvert_exporter": "python",
   "pygments_lexer": "ipython2",
   "version": "2.7.6"
  }
 },
 "nbformat": 4,
 "nbformat_minor": 0
}